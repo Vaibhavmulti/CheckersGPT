{
 "cells": [
  {
   "cell_type": "code",
   "execution_count": 1,
   "metadata": {},
   "outputs": [
    {
     "name": "stderr",
     "output_type": "stream",
     "text": [
      "/home/vaibhav/miniconda3/envs/chessgpt/lib/python3.11/site-packages/tqdm/auto.py:21: TqdmWarning: IProgress not found. Please update jupyter and ipywidgets. See https://ipywidgets.readthedocs.io/en/stable/user_install.html\n",
      "  from .autonotebook import tqdm as notebook_tqdm\n",
      "2024-07-03 20:36:19,651 - train_test_chess - INFO - Using device: cuda\n",
      "2024-07-03 20:36:19,654 - train_test_chess - INFO - {'vocab_size': 17, 'itos': {0: '\\n', 1: ' ', 2: '-', 3: '.', 4: '/', 5: '0', 6: '1', 7: '2', 8: '3', 9: '4', 10: '5', 11: '6', 12: '7', 13: '8', 14: '9', 15: ';', 16: 'x'}, 'stoi': {'\\n': 0, ' ': 1, '-': 2, '.': 3, '/': 4, '0': 5, '1': 6, '2': 7, '3': 8, '4': 9, '5': 10, '6': 11, '7': 12, '8': 13, '9': 14, ';': 15, 'x': 16}}\n",
      "2024-07-03 20:36:19,655 - train_test_chess - INFO - [6, 3, 1, 6, 6, 2, 6, 10, 1, 7, 9, 2, 7, 5, 1, 7, 3, 1, 13, 2, 6, 6, 1, 7, 13, 2, 7, 9]\n",
      "2024-07-03 20:36:19,655 - train_test_chess - INFO - Performing round trip test on meta\n"
     ]
    }
   ],
   "source": [
    "import torch\n",
    "import numpy as np\n",
    "\n",
    "import chess_utils\n",
    "import train_test_chess\n",
    "\n",
    "from checkers.game import Game\n",
    "import numpy as np\n",
    "\n",
    "\n",
    "game = Game()\n"
   ]
  },
  {
   "cell_type": "code",
   "execution_count": 2,
   "metadata": {},
   "outputs": [
    {
     "data": {
      "text/plain": [
       "tensor([[ 0, -1,  0, -1,  0, -1,  0, -1],\n",
       "        [-1,  0, -1,  0, -1,  0, -1,  0],\n",
       "        [ 0, -1,  0, -1,  0, -1,  0, -1],\n",
       "        [ 0,  0,  0,  0,  0,  0,  0,  0],\n",
       "        [ 0,  0,  0,  0,  0,  0,  0,  0],\n",
       "        [ 1,  0,  1,  0,  1,  0,  1,  0],\n",
       "        [ 0,  1,  0,  1,  0,  1,  0,  1],\n",
       "        [ 1,  0,  1,  0,  1,  0,  1,  0]], dtype=torch.int32)"
      ]
     },
     "execution_count": 2,
     "metadata": {},
     "output_type": "execute_result"
    }
   ],
   "source": [
    "chess_utils.board_to_piece_color_state(game)"
   ]
  },
  {
   "cell_type": "code",
   "execution_count": 7,
   "metadata": {},
   "outputs": [
    {
     "name": "stdout",
     "output_type": "stream",
     "text": [
      "None 1\n",
      "2 1\n",
      "3 1\n",
      "4 1\n",
      "5 1\n",
      "6 1\n",
      "7 1\n",
      "8 1\n",
      "9 1\n",
      "10 1\n",
      "11 1\n",
      "12 1\n",
      "21 2\n",
      "22 2\n",
      "23 2\n",
      "24 2\n",
      "25 2\n",
      "26 2\n",
      "27 2\n",
      "28 2\n",
      "29 2\n",
      "30 2\n",
      "31 2\n",
      "32 2\n"
     ]
    }
   ],
   "source": [
    "for piece in game.board.pieces:\n",
    "    if piece.position == (1):\n",
    "        piece.capture()\n",
    "for piece in game.board.pieces:\n",
    "    print(piece.position, piece.player)\n"
   ]
  },
  {
   "cell_type": "code",
   "execution_count": 8,
   "metadata": {},
   "outputs": [
    {
     "data": {
      "text/plain": [
       "tensor([[ 0, -1,  0, -1,  0, -1,  0, -1],\n",
       "        [-1,  0, -1,  0, -1,  0, -1,  0],\n",
       "        [ 0, -1,  0, -1,  0, -1,  0, -1],\n",
       "        [ 0,  0,  0,  0,  0,  0,  0,  0],\n",
       "        [ 0,  0,  0,  0,  0,  0,  0,  0],\n",
       "        [ 1,  0,  1,  0,  1,  0,  1,  0],\n",
       "        [ 0,  1,  0,  1,  0,  1,  0,  1],\n",
       "        [ 1,  0,  1,  0,  1,  0,  0,  0]], dtype=torch.int32)"
      ]
     },
     "execution_count": 8,
     "metadata": {},
     "output_type": "execute_result"
    }
   ],
   "source": [
    "chess_utils.board_to_piece_color_state(game)"
   ]
  },
  {
   "cell_type": "code",
   "execution_count": null,
   "metadata": {},
   "outputs": [],
   "source": [
    "# for piece in game.board.pieces:\n",
    "#     if piece.position == model_move_san[0]:\n",
    "#         piece.capture()\n"
   ]
  }
 ],
 "metadata": {
  "kernelspec": {
   "display_name": "chessgpt",
   "language": "python",
   "name": "python3"
  },
  "language_info": {
   "codemirror_mode": {
    "name": "ipython",
    "version": 3
   },
   "file_extension": ".py",
   "mimetype": "text/x-python",
   "name": "python",
   "nbconvert_exporter": "python",
   "pygments_lexer": "ipython3",
   "version": "3.11.9"
  }
 },
 "nbformat": 4,
 "nbformat_minor": 2
}
